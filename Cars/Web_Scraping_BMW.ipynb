{
  "nbformat": 4,
  "nbformat_minor": 0,
  "metadata": {
    "colab": {
      "name": "Web Scraping BMW.ipynb",
      "provenance": [],
      "collapsed_sections": []
    },
    "kernelspec": {
      "name": "python3",
      "display_name": "Python 3"
    },
    "language_info": {
      "name": "python"
    }
  },
  "cells": [
    {
      "cell_type": "markdown",
      "metadata": {
        "id": "LB1r6Mtxlxrj"
      },
      "source": [
        "## Importing libraries"
      ]
    },
    {
      "cell_type": "code",
      "metadata": {
        "id": "8L9sKdxZlx2i"
      },
      "source": [
        "from bs4 import BeautifulSoup\n",
        "import requests\n",
        "import pandas as pd"
      ],
      "execution_count": 2,
      "outputs": []
    },
    {
      "cell_type": "markdown",
      "metadata": {
        "id": "p8Kr4rZRlD97"
      },
      "source": [
        "## Web scraping BMW"
      ]
    },
    {
      "cell_type": "code",
      "metadata": {
        "id": "YsvESqXsku96"
      },
      "source": [
        "name = []\n",
        "mileage = []\n",
        "rating = []\n",
        "reviews_count = []\n",
        "dealer_name = []\n",
        "price = []\n",
        "\n",
        "for i in range(1,61):\n",
        "    \n",
        "    # storing the website in a variable\n",
        "    url = \"https://www.cars.com/shopping/results/?stock_type=all&makes%5B%5D=bmw&models%5B%5D=&list_price_max=&maximum_distance=all&zip=\"\n",
        "\n",
        "    # http requests\n",
        "    response = requests.get(url)\n",
        "    \n",
        "    # soup object\n",
        "    soup = BeautifulSoup(response.content, 'html.parser')\n",
        "    \n",
        "    # results\n",
        "    results = soup.find_all('div', {'class': 'vehicle-card'})\n",
        "    \n",
        "    # loop through results\n",
        "    for result in results:\n",
        "        \n",
        "        # name\n",
        "        try:\n",
        "            name.append(result.find('h2', {'class': 'title'}).get_text())\n",
        "        except:\n",
        "            name.append('n/a')\n",
        "            \n",
        "        # mileage\n",
        "        try:\n",
        "            mileage.append(result.find('div', {'class':'mileage'}).get_text())\n",
        "        except:\n",
        "            mileage.append('n/a')\n",
        "            \n",
        "        # rating\n",
        "        try:\n",
        "            rating.append(result.find('span', {'class':'sds-rating__count'}).get_text())\n",
        "        except:\n",
        "            rating.append('n/a')\n",
        "            \n",
        "       # review_count\n",
        "        try:\n",
        "            reviews_count.append(result.find('span', {'class':'sds-rating__link'}).get_text())\n",
        "        except:\n",
        "            reviews_count.append('n/a') \n",
        "            \n",
        "        # dealer_name\n",
        "        try:\n",
        "            dealer_name.append(result.find('div', {'class':'dealer-name'}).get_text().strip())\n",
        "        except:\n",
        "            dealer_name.append('n/a')\n",
        "            \n",
        "        #price \n",
        "        try:\n",
        "            price.append(result.find('span', {'class':'primary-price'}).get_text())\n",
        "        except:\n",
        "            price.append('n/a')"
      ],
      "execution_count": 3,
      "outputs": []
    },
    {
      "cell_type": "markdown",
      "metadata": {
        "id": "P5nSIUsylilK"
      },
      "source": [
        "## Creating the BMW Dataframe"
      ]
    },
    {
      "cell_type": "code",
      "metadata": {
        "colab": {
          "base_uri": "https://localhost:8080/",
          "height": 419
        },
        "id": "jUUojNvTllbC",
        "outputId": "45291d39-1906-42de-9a43-ac1d7e8646af"
      },
      "source": [
        "df_bmw = df = pd.DataFrame({'Name': name, 'Mileage': mileage, 'Rating': rating, 'Reviews Count': reviews_count, 'Dealer Name': dealer_name,\n",
        "                  'Price': price})\n",
        "\n",
        "df_bmw"
      ],
      "execution_count": 5,
      "outputs": [
        {
          "output_type": "execute_result",
          "data": {
            "text/html": [
              "<div>\n",
              "<style scoped>\n",
              "    .dataframe tbody tr th:only-of-type {\n",
              "        vertical-align: middle;\n",
              "    }\n",
              "\n",
              "    .dataframe tbody tr th {\n",
              "        vertical-align: top;\n",
              "    }\n",
              "\n",
              "    .dataframe thead th {\n",
              "        text-align: right;\n",
              "    }\n",
              "</style>\n",
              "<table border=\"1\" class=\"dataframe\">\n",
              "  <thead>\n",
              "    <tr style=\"text-align: right;\">\n",
              "      <th></th>\n",
              "      <th>Name</th>\n",
              "      <th>Mileage</th>\n",
              "      <th>Rating</th>\n",
              "      <th>Reviews Count</th>\n",
              "      <th>Dealer Name</th>\n",
              "      <th>Price</th>\n",
              "    </tr>\n",
              "  </thead>\n",
              "  <tbody>\n",
              "    <tr>\n",
              "      <th>0</th>\n",
              "      <td>2021 BMW M3 Competition</td>\n",
              "      <td>12,058 mi.</td>\n",
              "      <td>3.6</td>\n",
              "      <td>(57 reviews)</td>\n",
              "      <td>Power Motors East</td>\n",
              "      <td>$88,990</td>\n",
              "    </tr>\n",
              "    <tr>\n",
              "      <th>1</th>\n",
              "      <td>2016 BMW X1 xDrive 28i</td>\n",
              "      <td>58,922 mi.</td>\n",
              "      <td>3.7</td>\n",
              "      <td>(428 reviews)</td>\n",
              "      <td>Frisco Chrysler Dodge Jeep Ram</td>\n",
              "      <td>$23,776</td>\n",
              "    </tr>\n",
              "    <tr>\n",
              "      <th>2</th>\n",
              "      <td>2018 BMW X3 xDrive30i</td>\n",
              "      <td>21,309 mi.</td>\n",
              "      <td>4.8</td>\n",
              "      <td>(532 reviews)</td>\n",
              "      <td>Elite Auto Brokers</td>\n",
              "      <td>$37,900</td>\n",
              "    </tr>\n",
              "    <tr>\n",
              "      <th>3</th>\n",
              "      <td>2018 BMW 430 Gran Coupe i xDrive</td>\n",
              "      <td>47,240 mi.</td>\n",
              "      <td>4.6</td>\n",
              "      <td>(2,717 reviews)</td>\n",
              "      <td>Schaumburg Honda Automobiles</td>\n",
              "      <td>$30,900</td>\n",
              "    </tr>\n",
              "    <tr>\n",
              "      <th>4</th>\n",
              "      <td>2019 BMW X5 xDrive40i</td>\n",
              "      <td>20,396 mi.</td>\n",
              "      <td>4.8</td>\n",
              "      <td>(1,957 reviews)</td>\n",
              "      <td>BMW of Bridgeport</td>\n",
              "      <td>$66,996</td>\n",
              "    </tr>\n",
              "    <tr>\n",
              "      <th>...</th>\n",
              "      <td>...</td>\n",
              "      <td>...</td>\n",
              "      <td>...</td>\n",
              "      <td>...</td>\n",
              "      <td>...</td>\n",
              "      <td>...</td>\n",
              "    </tr>\n",
              "    <tr>\n",
              "      <th>1195</th>\n",
              "      <td>2021 BMW X3 sDrive30i</td>\n",
              "      <td>11,418 mi.</td>\n",
              "      <td>4.2</td>\n",
              "      <td>(822 reviews)</td>\n",
              "      <td>BMW of Buena Park</td>\n",
              "      <td>$43,777</td>\n",
              "    </tr>\n",
              "    <tr>\n",
              "      <th>1196</th>\n",
              "      <td>2019 BMW 750 i xDrive</td>\n",
              "      <td>37,334 mi.</td>\n",
              "      <td>4.4</td>\n",
              "      <td>(572 reviews)</td>\n",
              "      <td>Volkswagen of West Islip</td>\n",
              "      <td>$63,998</td>\n",
              "    </tr>\n",
              "    <tr>\n",
              "      <th>1197</th>\n",
              "      <td>2012 BMW 650 i</td>\n",
              "      <td>47,846 mi.</td>\n",
              "      <td>4.1</td>\n",
              "      <td>(97 reviews)</td>\n",
              "      <td>Capitol Chevrolet</td>\n",
              "      <td>$26,989</td>\n",
              "    </tr>\n",
              "    <tr>\n",
              "      <th>1198</th>\n",
              "      <td>2019 BMW M4 Base</td>\n",
              "      <td>39,583 mi.</td>\n",
              "      <td>4.4</td>\n",
              "      <td>(724 reviews)</td>\n",
              "      <td>BMW of Alexandria</td>\n",
              "      <td>$61,990</td>\n",
              "    </tr>\n",
              "    <tr>\n",
              "      <th>1199</th>\n",
              "      <td>2019 BMW 530 i</td>\n",
              "      <td>42,480 mi.</td>\n",
              "      <td>4.8</td>\n",
              "      <td>(171 reviews)</td>\n",
              "      <td>Alfa Romeo Maserati Stuart</td>\n",
              "      <td>$36,500</td>\n",
              "    </tr>\n",
              "  </tbody>\n",
              "</table>\n",
              "<p>1200 rows × 6 columns</p>\n",
              "</div>"
            ],
            "text/plain": [
              "                                  Name  ...    Price\n",
              "0              2021 BMW M3 Competition  ...  $88,990\n",
              "1               2016 BMW X1 xDrive 28i  ...  $23,776\n",
              "2                2018 BMW X3 xDrive30i  ...  $37,900\n",
              "3     2018 BMW 430 Gran Coupe i xDrive  ...  $30,900\n",
              "4                2019 BMW X5 xDrive40i  ...  $66,996\n",
              "...                                ...  ...      ...\n",
              "1195             2021 BMW X3 sDrive30i  ...  $43,777\n",
              "1196             2019 BMW 750 i xDrive  ...  $63,998\n",
              "1197                    2012 BMW 650 i  ...  $26,989\n",
              "1198                  2019 BMW M4 Base  ...  $61,990\n",
              "1199                    2019 BMW 530 i  ...  $36,500\n",
              "\n",
              "[1200 rows x 6 columns]"
            ]
          },
          "metadata": {},
          "execution_count": 5
        }
      ]
    },
    {
      "cell_type": "markdown",
      "metadata": {
        "id": "Fe2k_F1UpsMy"
      },
      "source": [
        "## Saving the dataframe in a csv file"
      ]
    },
    {
      "cell_type": "code",
      "metadata": {
        "id": "IyoyRwFppw1h"
      },
      "source": [
        "df_bmw.to_csv('bmw.csv')"
      ],
      "execution_count": 6,
      "outputs": []
    }
  ]
}