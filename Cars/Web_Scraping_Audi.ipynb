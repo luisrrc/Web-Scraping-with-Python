{
  "nbformat": 4,
  "nbformat_minor": 0,
  "metadata": {
    "colab": {
      "name": "Web Scraping Audi.ipynb",
      "provenance": []
    },
    "kernelspec": {
      "name": "python3",
      "display_name": "Python 3"
    },
    "language_info": {
      "name": "python"
    }
  },
  "cells": [
    {
      "cell_type": "markdown",
      "metadata": {
        "id": "NaXj6R4im37G"
      },
      "source": [
        "## Importing libraries"
      ]
    },
    {
      "cell_type": "code",
      "metadata": {
        "id": "lB1ZJbkLmxZj"
      },
      "source": [
        "from bs4 import BeautifulSoup\n",
        "import requests\n",
        "import pandas as pd"
      ],
      "execution_count": 2,
      "outputs": []
    },
    {
      "cell_type": "markdown",
      "metadata": {
        "id": "gIemVwb9nCgF"
      },
      "source": [
        "## Web Scraping Audi"
      ]
    },
    {
      "cell_type": "code",
      "metadata": {
        "id": "SLrXZoRlnGUO"
      },
      "source": [
        "name = []\n",
        "mileage = []\n",
        "rating = []\n",
        "reviews_count = []\n",
        "dealer_name = []\n",
        "price = []\n",
        "\n",
        "for i in range(1,61):\n",
        "    \n",
        "    # storing the website in a variable\n",
        "    url = \"https://www.cars.com/shopping/results/?stock_type=all&makes%5B%5D=audi&models%5B%5D=&list_price_max=&maximum_distance=all&zip=\"\n",
        "\n",
        "    # http requests\n",
        "    response = requests.get(url)\n",
        "    \n",
        "    # soup object\n",
        "    soup = BeautifulSoup(response.content, 'html.parser')\n",
        "    \n",
        "    # results\n",
        "    results = soup.find_all('div', {'class': 'vehicle-card'})\n",
        "    \n",
        "    # loop through results\n",
        "    for result in results:\n",
        "        \n",
        "        # name\n",
        "        try:\n",
        "            name.append(result.find('h2', {'class': 'title'}).get_text())\n",
        "        except:\n",
        "            name.append('n/a')\n",
        "            \n",
        "        # mileage\n",
        "        try:\n",
        "            mileage.append(result.find('div', {'class':'mileage'}).get_text())\n",
        "        except:\n",
        "            mileage.append('n/a')\n",
        "            \n",
        "        # rating\n",
        "        try:\n",
        "            rating.append(result.find('span', {'class':'sds-rating__count'}).get_text())\n",
        "        except:\n",
        "            rating.append('n/a')\n",
        "            \n",
        "       # review_count\n",
        "        try:\n",
        "            reviews_count.append(result.find('span', {'class':'sds-rating__link'}).get_text())\n",
        "        except:\n",
        "            reviews_count.append('n/a') \n",
        "            \n",
        "        # dealer_name\n",
        "        try:\n",
        "            dealer_name.append(result.find('div', {'class':'dealer-name'}).get_text().strip())\n",
        "        except:\n",
        "            dealer_name.append('n/a')\n",
        "            \n",
        "        #price \n",
        "        try:\n",
        "            price.append(result.find('span', {'class':'primary-price'}).get_text())\n",
        "        except:\n",
        "            price.append('n/a')"
      ],
      "execution_count": 3,
      "outputs": []
    },
    {
      "cell_type": "markdown",
      "metadata": {
        "id": "8QbUPXRqnxvu"
      },
      "source": [
        "## Creating the Audi Dataframe"
      ]
    },
    {
      "cell_type": "code",
      "metadata": {
        "colab": {
          "base_uri": "https://localhost:8080/",
          "height": 419
        },
        "id": "F-gHYnLIn1F4",
        "outputId": "5048165c-a81d-4665-c8e2-78fd5837b58c"
      },
      "source": [
        "df_audi = df = pd.DataFrame({'Name': name, 'Mileage': mileage, 'Rating': rating, 'Reviews Count': reviews_count, 'Dealer Name': dealer_name,\n",
        "                  'Price': price})\n",
        "\n",
        "df_audi"
      ],
      "execution_count": 4,
      "outputs": [
        {
          "output_type": "execute_result",
          "data": {
            "text/html": [
              "<div>\n",
              "<style scoped>\n",
              "    .dataframe tbody tr th:only-of-type {\n",
              "        vertical-align: middle;\n",
              "    }\n",
              "\n",
              "    .dataframe tbody tr th {\n",
              "        vertical-align: top;\n",
              "    }\n",
              "\n",
              "    .dataframe thead th {\n",
              "        text-align: right;\n",
              "    }\n",
              "</style>\n",
              "<table border=\"1\" class=\"dataframe\">\n",
              "  <thead>\n",
              "    <tr style=\"text-align: right;\">\n",
              "      <th></th>\n",
              "      <th>Name</th>\n",
              "      <th>Mileage</th>\n",
              "      <th>Rating</th>\n",
              "      <th>Reviews Count</th>\n",
              "      <th>Dealer Name</th>\n",
              "      <th>Price</th>\n",
              "    </tr>\n",
              "  </thead>\n",
              "  <tbody>\n",
              "    <tr>\n",
              "      <th>0</th>\n",
              "      <td>2015 Audi A6 2.0T Premium Plus</td>\n",
              "      <td>68,672 mi.</td>\n",
              "      <td>4.6</td>\n",
              "      <td>(39 reviews)</td>\n",
              "      <td>Platinum Motor Cars</td>\n",
              "      <td>$24,990</td>\n",
              "    </tr>\n",
              "    <tr>\n",
              "      <th>1</th>\n",
              "      <td>2018 Audi Q7 3.0T Premium Plus</td>\n",
              "      <td>28,579 mi.</td>\n",
              "      <td>3.9</td>\n",
              "      <td>(268 reviews)</td>\n",
              "      <td>Audi Brooklyn</td>\n",
              "      <td>$43,990</td>\n",
              "    </tr>\n",
              "    <tr>\n",
              "      <th>2</th>\n",
              "      <td>2021 Audi e-tron Premium</td>\n",
              "      <td>3,818 mi.</td>\n",
              "      <td>5.0</td>\n",
              "      <td>(1,091 reviews)</td>\n",
              "      <td>Audi Lakeland</td>\n",
              "      <td>$67,998</td>\n",
              "    </tr>\n",
              "    <tr>\n",
              "      <th>3</th>\n",
              "      <td>2016 Audi A6 3.0T Premium Plus</td>\n",
              "      <td>52,001 mi.</td>\n",
              "      <td>4.6</td>\n",
              "      <td>(584 reviews)</td>\n",
              "      <td>Toyota of Gastonia</td>\n",
              "      <td>$28,699</td>\n",
              "    </tr>\n",
              "    <tr>\n",
              "      <th>4</th>\n",
              "      <td>2021 Audi RS Q8 4.0T quattro</td>\n",
              "      <td>4,169 mi.</td>\n",
              "      <td>4.7</td>\n",
              "      <td>(1,109 reviews)</td>\n",
              "      <td>BMW of Freeport</td>\n",
              "      <td>$149,943</td>\n",
              "    </tr>\n",
              "    <tr>\n",
              "      <th>...</th>\n",
              "      <td>...</td>\n",
              "      <td>...</td>\n",
              "      <td>...</td>\n",
              "      <td>...</td>\n",
              "      <td>...</td>\n",
              "      <td>...</td>\n",
              "    </tr>\n",
              "    <tr>\n",
              "      <th>1135</th>\n",
              "      <td>2019 Audi Q8 3.0T Premium</td>\n",
              "      <td>12,451 mi.</td>\n",
              "      <td>4.4</td>\n",
              "      <td>(83 reviews)</td>\n",
              "      <td>Perillo Downers Grove</td>\n",
              "      <td>$75,929</td>\n",
              "    </tr>\n",
              "    <tr>\n",
              "      <th>1136</th>\n",
              "      <td>2018 Audi RS 3 2.5T</td>\n",
              "      <td>32,483 mi.</td>\n",
              "      <td>4.4</td>\n",
              "      <td>(63 reviews)</td>\n",
              "      <td>Kelly Motorcars</td>\n",
              "      <td>$65,977</td>\n",
              "    </tr>\n",
              "    <tr>\n",
              "      <th>1137</th>\n",
              "      <td>2011 Audi R8 5.2 quattro Spyder</td>\n",
              "      <td>53,376 mi.</td>\n",
              "      <td>4.1</td>\n",
              "      <td>(297 reviews)</td>\n",
              "      <td>Leesburg Auto Import</td>\n",
              "      <td>$92,987</td>\n",
              "    </tr>\n",
              "    <tr>\n",
              "      <th>1138</th>\n",
              "      <td>2018 Audi Q5 2.0T Tech Premium</td>\n",
              "      <td>18,267 mi.</td>\n",
              "      <td>4.6</td>\n",
              "      <td>(546 reviews)</td>\n",
              "      <td>AutoNation Toyota Spokane Valley</td>\n",
              "      <td>$39,676</td>\n",
              "    </tr>\n",
              "    <tr>\n",
              "      <th>1139</th>\n",
              "      <td>2021 Audi Q8 55 Premium</td>\n",
              "      <td>10,950 mi.</td>\n",
              "      <td>4.8</td>\n",
              "      <td>(4,547 reviews)</td>\n",
              "      <td>Motor Werks - Barrington Auto Mall</td>\n",
              "      <td>$84,991</td>\n",
              "    </tr>\n",
              "  </tbody>\n",
              "</table>\n",
              "<p>1140 rows × 6 columns</p>\n",
              "</div>"
            ],
            "text/plain": [
              "                                 Name  ...     Price\n",
              "0      2015 Audi A6 2.0T Premium Plus  ...   $24,990\n",
              "1      2018 Audi Q7 3.0T Premium Plus  ...   $43,990\n",
              "2            2021 Audi e-tron Premium  ...   $67,998\n",
              "3      2016 Audi A6 3.0T Premium Plus  ...   $28,699\n",
              "4        2021 Audi RS Q8 4.0T quattro  ...  $149,943\n",
              "...                               ...  ...       ...\n",
              "1135        2019 Audi Q8 3.0T Premium  ...   $75,929\n",
              "1136              2018 Audi RS 3 2.5T  ...   $65,977\n",
              "1137  2011 Audi R8 5.2 quattro Spyder  ...   $92,987\n",
              "1138   2018 Audi Q5 2.0T Tech Premium  ...   $39,676\n",
              "1139          2021 Audi Q8 55 Premium  ...   $84,991\n",
              "\n",
              "[1140 rows x 6 columns]"
            ]
          },
          "metadata": {},
          "execution_count": 4
        }
      ]
    },
    {
      "cell_type": "markdown",
      "metadata": {
        "id": "4EMWOeoxpXZh"
      },
      "source": [
        "## Saving the dataframe in a csv file"
      ]
    },
    {
      "cell_type": "code",
      "metadata": {
        "id": "1NOJ9HeCpesZ"
      },
      "source": [
        "df_audi.to_csv('audi.csv')"
      ],
      "execution_count": 5,
      "outputs": []
    }
  ]
}